{
 "cells": [
  {
   "cell_type": "code",
   "execution_count": 230,
   "metadata": {},
   "outputs": [],
   "source": [
    "from math import *\n",
    "# 计算香农熵\n",
    "def calcShannonEnt(dataset):\n",
    "    # 统计行数\n",
    "    num = len(dataset)\n",
    "#     print(num)\n",
    "    # 用于存储标签数量\n",
    "    labelCounts = {}\n",
    "    # 循环每行数据\n",
    "    for data in dataset:\n",
    "        # 获取判别的结果类型\n",
    "        current_label = data[-1]\n",
    "        # 判断结果是否在标签内\n",
    "        if current_label not in labelCounts.keys():\n",
    "            labelCounts[current_label] = 0\n",
    "        labelCounts[current_label] += 1\n",
    "    # 计算标签的占比\n",
    "    shannonEnt = 0.0\n",
    "#     print(labelCounts)\n",
    "    for key in labelCounts:\n",
    "#         print(key)\n",
    "        # 使用所有类标签的发生频率计算类别出现的概率。\n",
    "        prob = float(labelCounts[key])/num\n",
    "        shannonEnt -= prob*log(prob,2)\n",
    "    return shannonEnt"
   ]
  },
  {
   "cell_type": "code",
   "execution_count": 231,
   "metadata": {},
   "outputs": [],
   "source": [
    "def chooseBestFeature(dataSet):\n",
    "    #计算数据集的香农熵\n",
    "    baseEntropy = calcShannonEnt(dataSet)                 \n",
    "    # 计算所有列数\n",
    "    column_num = dataSet.shape[1]\n",
    "    # 计算数据行数\n",
    "    hang_num = dataSet.shape[0]\n",
    "    # 信息增益(初始化便于对比)\n",
    "    bestInfoGain = 0.0 \n",
    "    # 最优特征的索引值\n",
    "    bestFeature = -1\n",
    "    for i in range(column_num-1):\n",
    "        # 计算条件熵\n",
    "        # 获取每个特征相关的数据\n",
    "        new_data = dataSet[:,[i,-1]]\n",
    "        # 获取每个特征的所有取值\n",
    "        uniqueVals = set(new_data[:,0])\n",
    "        for value in uniqueVals:\n",
    "            classify_list = []\n",
    "            newEntropy = 0.0\n",
    "            # 对数据分类\n",
    "            for data in new_data:\n",
    "                if value == data[0]:\n",
    "                    classify_list.append(list(data))\n",
    "            print(calcShannonEnt(classify_list))\n",
    "            # 求取分类后数据的占比（即求概率）\n",
    "            prob = float(len(classify_list)/hang_num)\n",
    "            # 求条件熵 \n",
    "            newEntropy += prob * calcShannonEnt(classify_list)\n",
    "        # 计算信息增益\n",
    "        infoGain = baseEntropy - newEntropy \n",
    "        print(\"第%d个特征的增益为%.3f\" % (i, infoGain))\n",
    "        if (infoGain > bestInfoGain):                             #计算信息增益\n",
    "            bestInfoGain = infoGain                             #更新信息增益，找到最大的信息增益\n",
    "            bestFeature = i                                     #记录信息增益最大的特征的索引值\n",
    "    print(bestFeature)\n",
    "    return bestFeature                                             #返回信息增益最大的特征的索引值"
   ]
  },
  {
   "cell_type": "code",
   "execution_count": 232,
   "metadata": {},
   "outputs": [],
   "source": [
    "# -*- coding: UTF-8 -*-\n",
    "from math import log\n",
    "def createDataSet():\n",
    "    dataSet = [\n",
    "            [0, 0, 0, 0, 'no'],         #数据集\n",
    "            [0, 0, 0, 1, 'no'],\n",
    "            [0, 1, 0, 1, 'yes'],\n",
    "            [0, 1, 1, 0, 'yes'],\n",
    "            [0, 0, 0, 0, 'no'],\n",
    "            [1, 0, 0, 0, 'no'],\n",
    "            [1, 0, 0, 1, 'no'],\n",
    "            [1, 1, 1, 1, 'yes'],\n",
    "            [1, 0, 1, 2, 'yes'],\n",
    "            [1, 0, 1, 2, 'yes'],\n",
    "            [2, 0, 1, 2, 'yes'],\n",
    "            [2, 0, 1, 1, 'yes'],\n",
    "            [2, 1, 0, 1, 'yes'],\n",
    "            [2, 1, 0, 2, 'yes'],\n",
    "            [2, 0, 0, 0, 'no']\n",
    "    ]\n",
    "    labels = ['不放贷', '放贷']             #分类属性\n",
    "    return dataSet, labels                #返回数据集和分类属性"
   ]
  },
  {
   "cell_type": "code",
   "execution_count": 233,
   "metadata": {},
   "outputs": [],
   "source": [
    "data,lab = createDataSet()\n",
    "data_arr = np.array(data)"
   ]
  },
  {
   "cell_type": "code",
   "execution_count": 234,
   "metadata": {},
   "outputs": [
    {
     "name": "stdout",
     "output_type": "stream",
     "text": [
      "0.9709505944546686\n",
      "0.9709505944546686\n",
      "0.7219280948873623\n",
      "第0个特征的增益为0.730\n",
      "0.9709505944546686\n",
      "0.0\n",
      "第1个特征的增益为0.971\n",
      "0.9182958340544896\n",
      "0.0\n",
      "第2个特征的增益为0.971\n",
      "0.7219280948873623\n",
      "0.9182958340544896\n",
      "0.0\n",
      "第3个特征的增益为0.971\n",
      "1\n"
     ]
    },
    {
     "data": {
      "text/plain": [
       "1"
      ]
     },
     "execution_count": 234,
     "metadata": {},
     "output_type": "execute_result"
    }
   ],
   "source": [
    "chooseBestFeature(data_arr)"
   ]
  },
  {
   "cell_type": "code",
   "execution_count": null,
   "metadata": {},
   "outputs": [],
   "source": []
  }
 ],
 "metadata": {
  "kernelspec": {
   "display_name": "Python 3",
   "language": "python",
   "name": "python3"
  },
  "language_info": {
   "codemirror_mode": {
    "name": "ipython",
    "version": 3
   },
   "file_extension": ".py",
   "mimetype": "text/x-python",
   "name": "python",
   "nbconvert_exporter": "python",
   "pygments_lexer": "ipython3",
   "version": "3.7.0"
  }
 },
 "nbformat": 4,
 "nbformat_minor": 2
}
