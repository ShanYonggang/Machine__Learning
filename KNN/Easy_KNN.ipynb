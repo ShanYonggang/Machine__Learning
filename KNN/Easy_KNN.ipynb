{
 "cells": [
  {
   "cell_type": "code",
   "execution_count": 33,
   "metadata": {},
   "outputs": [],
   "source": [
    "import numpy as np\n",
    "import operator\n",
    "def createDataSet():\n",
    "    group = np.array([[108,5],[115,8],[5,89],[1,101]])\n",
    "    labels = ['动作片','动作片','爱情片','爱情片']\n",
    "    return group,labels"
   ]
  },
  {
   "cell_type": "code",
   "execution_count": 34,
   "metadata": {},
   "outputs": [
    {
     "name": "stdout",
     "output_type": "stream",
     "text": [
      "[[108   5]\n",
      " [115   8]\n",
      " [  5  89]\n",
      " [  1 101]]\n",
      "['动作片', '动作片', '爱情片', '爱情片']\n",
      "[[   49   225]\n",
      " [  196   144]\n",
      " [ 9216  4761]\n",
      " [10000  6561]]\n",
      "[  274   340 13977 16561]\n",
      "[ 16.55294536  18.43908891 118.22436297 128.68954892]\n"
     ]
    },
    {
     "data": {
      "text/plain": [
       "array([0, 1, 2, 3], dtype=int64)"
      ]
     },
     "execution_count": 34,
     "metadata": {},
     "output_type": "execute_result"
    }
   ],
   "source": [
    "#创建数据集\n",
    "group, labels = createDataSet()\n",
    "#打印数据集\n",
    "print(group)\n",
    "print(labels)\n",
    "a = np.array([101,20])\n",
    "b = ((group - np.tile(a,(4,1)))**2)\n",
    "print(b)\n",
    "c = b.sum(axis=1)\n",
    "print(c)\n",
    "d = c**0.5\n",
    "print(d)\n",
    "d.argsort()"
   ]
  },
  {
   "cell_type": "code",
   "execution_count": 37,
   "metadata": {},
   "outputs": [],
   "source": [
    "def classify0(inx,dataset,labels,k):\n",
    "    # 获取数据的行数\n",
    "    dataSetSize = dataset.shape[0]\n",
    "    # 设计与dataset同样的行数（重复inx）\n",
    "    new_inx = np.tile(inx,(dataSetSize,1))\n",
    "    # 求取两个矩阵向量的差值\n",
    "    diff = dataset - new_inx\n",
    "    # 求取其平方值\n",
    "    diffMat = diff ** 2\n",
    "    # 将每行数据相加便于求距离，sum(0)列相加，sum(1)行相加\n",
    "    sqDistances = diffMat.sum(axis=1)\n",
    "    # 求取距离（开方求距离）\n",
    "    distances = sqDistances**0.5\n",
    "    #返回distances中元素从小到大排序后的索引值\n",
    "    sortedDistIndices = distances.argsort()\n",
    "    #定一个记录类别次数的字典\n",
    "    classCount = {}\n",
    "    for i in range(k):\n",
    "        #取出前k个元素的类别\n",
    "        voteIlabel = labels[sortedDistIndices[i]]\n",
    "        print(voteIlabel)\n",
    "        #计算类别次数\n",
    "        classCount[voteIlabel] = classCount.get(voteIlabel,0) + 1\n",
    "    sortedClassCount = sorted(classCount.items(),key=operator.itemgetter(1),reverse=True)\n",
    "    print(sortedClassCount)\n",
    "    return sortedClassCount[0][0]"
   ]
  },
  {
   "cell_type": "code",
   "execution_count": 40,
   "metadata": {},
   "outputs": [
    {
     "name": "stdout",
     "output_type": "stream",
     "text": [
      "动作片\n",
      "动作片\n",
      "爱情片\n",
      "[('动作片', 2), ('爱情片', 1)]\n",
      "需要判断的电影类型是：动作片\n"
     ]
    }
   ],
   "source": [
    "test = np.array([101,20])\n",
    "group, labels = createDataSet()\n",
    "movie_style = classify0(test, group, labels, 3)\n",
    "print('需要判断的电影类型是：%s'% movie_style)"
   ]
  },
  {
   "cell_type": "code",
   "execution_count": null,
   "metadata": {},
   "outputs": [],
   "source": []
  }
 ],
 "metadata": {
  "kernelspec": {
   "display_name": "Python 3",
   "language": "python",
   "name": "python3"
  },
  "language_info": {
   "codemirror_mode": {
    "name": "ipython",
    "version": 3
   },
   "file_extension": ".py",
   "mimetype": "text/x-python",
   "name": "python",
   "nbconvert_exporter": "python",
   "pygments_lexer": "ipython3",
   "version": "3.7.0"
  }
 },
 "nbformat": 4,
 "nbformat_minor": 2
}
