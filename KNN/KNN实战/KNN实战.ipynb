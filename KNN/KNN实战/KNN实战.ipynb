{
 "cells": [
  {
   "cell_type": "code",
   "execution_count": 157,
   "metadata": {
    "scrolled": false
   },
   "outputs": [],
   "source": [
    "import numpy as np\n",
    "import pandas as pd\n",
    "file =  open(r'F:\\0_个人学习\\3_数据分析与挖掘\\1_基础知识\\2_数据分析与挖掘书本练习\\0_第二章\\ionosphere.data','r') \n",
    "data = pd.DataFrame(file.readlines())"
   ]
  },
  {
   "cell_type": "code",
   "execution_count": 158,
   "metadata": {},
   "outputs": [],
   "source": [
    "data['pan'] = data[0].apply(lambda x : x.split(',')[-1].strip('\\n'))\n",
    "data[0] = data[0].apply(lambda x : x.split(',')[:-1])\n",
    "x = np.array(list(data[0])).astype(np.float64)\n",
    "y = np.array(list(data['pan']))"
   ]
  },
  {
   "cell_type": "code",
   "execution_count": 159,
   "metadata": {},
   "outputs": [],
   "source": [
    "from sklearn.model_selection import train_test_split,cross_val_score\n",
    "x_train,x_test,y_train,y_test = train_test_split(x,y, test_size=0.29, random_state=42)"
   ]
  },
  {
   "cell_type": "code",
   "execution_count": 160,
   "metadata": {},
   "outputs": [
    {
     "data": {
      "text/plain": [
       "array(['g', 'g', 'g', 'g', 'g', 'g', 'g', 'g', 'g', 'g', 'g', 'b', 'b',\n",
       "       'g', 'g', 'g', 'g', 'g', 'g', 'b', 'g', 'b', 'b', 'g', 'g', 'g',\n",
       "       'b', 'b', 'b', 'g', 'g', 'g', 'g', 'g', 'g', 'b', 'g', 'g', 'b',\n",
       "       'g', 'g', 'g', 'g', 'b', 'g', 'b', 'b', 'g', 'g', 'g', 'g', 'g',\n",
       "       'b', 'g', 'b', 'g', 'g', 'g', 'g', 'b', 'b', 'g', 'g', 'g', 'g',\n",
       "       'g', 'g', 'g', 'g', 'g', 'g', 'g', 'g', 'g', 'g', 'g', 'g', 'b',\n",
       "       'b', 'g', 'g', 'g', 'g', 'g', 'g', 'g', 'g', 'b', 'b', 'b', 'g',\n",
       "       'b', 'b', 'g', 'g', 'g', 'g', 'g', 'g', 'g', 'g', 'g'], dtype='<U1')"
      ]
     },
     "execution_count": 160,
     "metadata": {},
     "output_type": "execute_result"
    }
   ],
   "source": [
    "from sklearn.neighbors import KNeighborsClassifier\n",
    "estimator = KNeighborsClassifier()\n",
    "estimator.fit(x_train,y_train)\n",
    "y_predicted = estimator.predict(x_test)\n",
    "y_predicted"
   ]
  },
  {
   "cell_type": "code",
   "execution_count": 161,
   "metadata": {},
   "outputs": [
    {
     "name": "stdout",
     "output_type": "stream",
     "text": [
      "The accuracy is 86.3%\n"
     ]
    }
   ],
   "source": [
    "y_test\n",
    "accuracy = np.mean(y_predicted == y_test)*100\n",
    "print('The accuracy is {0:.1f}%'.format(accuracy))"
   ]
  },
  {
   "cell_type": "code",
   "execution_count": 162,
   "metadata": {},
   "outputs": [
    {
     "data": {
      "text/plain": [
       "0.8261971830985916"
      ]
     },
     "execution_count": 162,
     "metadata": {},
     "output_type": "execute_result"
    }
   ],
   "source": [
    "scores = cross_val_score(estimator,x,y,scoring='accuracy')\n",
    "av = np.mean(scores)\n",
    "av"
   ]
  },
  {
   "cell_type": "code",
   "execution_count": 163,
   "metadata": {},
   "outputs": [
    {
     "data": {
      "image/png": "[encoded data removed]",
      "text/plain": [
       "<Figure size 432x288 with 1 Axes>"
      ]
     },
     "metadata": {
      "needs_background": "light"
     },
     "output_type": "display_data"
    }
   ],
   "source": [
    "from matplotlib import pyplot as plt\n",
    "avg_sc = []\n",
    "all_sc = []\n",
    "parameter_values = list(range(1,21))\n",
    "for n_neighbors in parameter_values:\n",
    "    estimator = KNeighborsClassifier(n_neighbors=n_neighbors)\n",
    "    scores = cross_val_score(estimator,x,y,scoring='accuracy')\n",
    "    avg_sc.append(np.mean(scores))\n",
    "    all_sc.append(scores)\n",
    "plt.plot(parameter_values,avg_sc,'-o')\n",
    "plt.show()"
   ]
  },
  {
   "cell_type": "code",
   "execution_count": 165,
   "metadata": {},
   "outputs": [
    {
     "name": "stdout",
     "output_type": "stream",
     "text": [
      "The average accuracy is 82.9%\n"
     ]
    }
   ],
   "source": [
    "from sklearn.preprocessing import MinMaxScaler\n",
    "X_transformed = MinMaxScaler().fit_transform(x)\n",
    "estimator = KNeighborsClassifier()\n",
    "transformed_score = cross_val_score(estimator,X_transformed,y,scoring='accuracy')\n",
    "print('The average accuracy is {0:.1f}%'.format(np.mean(transformed_score)*100))"
   ]
  },
  {
   "cell_type": "code",
   "execution_count": null,
   "metadata": {},
   "outputs": [],
   "source": []
  }
 ],
 "metadata": {
  "kernelspec": {
   "display_name": "Python 3",
   "language": "python",
   "name": "python3"
  },
  "language_info": {
   "codemirror_mode": {
    "name": "ipython",
    "version": 3
   },
   "file_extension": ".py",
   "mimetype": "text/x-python",
   "name": "python",
   "nbconvert_exporter": "python",
   "pygments_lexer": "ipython3",
   "version": "3.7.0"
  }
 },
 "nbformat": 4,
 "nbformat_minor": 2
}
